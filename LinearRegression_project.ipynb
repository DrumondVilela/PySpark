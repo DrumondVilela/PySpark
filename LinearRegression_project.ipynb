{
 "cells": [
  {
   "cell_type": "markdown",
   "metadata": {},
   "source": [
    "## Projeto - Regressão Linear \n",
    "\n",
    "### A Hyundai, uma das maiores comercializantes de cruzeiros, quer que você faça um modelo de predição que os diga quantos trabalhadores os futuros cruzeiros deles irão precisar.\n",
    "- Utilizar o arquivo \"cruise_ship_info.csv\" para treinamento e testagem do modelo\n",
    "- Pesquisar como converter uma coluna do tipo string em números (StringIndexer) na documentação\n",
    "- Atenção aos cruzeiros que diferem em número de funcionários possíveis"
   ]
  },
  {
   "cell_type": "code",
   "execution_count": 44,
   "metadata": {},
   "outputs": [],
   "source": [
    "# Importação das bibliotecas necessárias\n",
    "import findspark\n",
    "findspark.init()\n",
    "from pyspark.sql import SparkSession\n",
    "from pyspark.ml.regression import LinearRegression\n",
    "from pyspark.ml.linalg import Vectors\n",
    "from pyspark.ml.feature import VectorAssembler, StringIndexer\n",
    "from pyspark.sql.functions import corr"
   ]
  },
  {
   "cell_type": "code",
   "execution_count": 2,
   "metadata": {},
   "outputs": [
    {
     "data": {
      "text/html": [
       "\n",
       "            <div>\n",
       "                <p><b>SparkSession - in-memory</b></p>\n",
       "                \n",
       "        <div>\n",
       "            <p><b>SparkContext</b></p>\n",
       "\n",
       "            <p><a href=\"http://LAPTOP-LSO5BE56:4040\">Spark UI</a></p>\n",
       "\n",
       "            <dl>\n",
       "              <dt>Version</dt>\n",
       "                <dd><code>v3.2.0</code></dd>\n",
       "              <dt>Master</dt>\n",
       "                <dd><code>local[*]</code></dd>\n",
       "              <dt>AppName</dt>\n",
       "                <dd><code>lr_project</code></dd>\n",
       "            </dl>\n",
       "        </div>\n",
       "        \n",
       "            </div>\n",
       "        "
      ],
      "text/plain": [
       "<pyspark.sql.session.SparkSession at 0x1c5df8361c0>"
      ]
     },
     "execution_count": 2,
     "metadata": {},
     "output_type": "execute_result"
    }
   ],
   "source": [
    "# Inicialização da SparkSession\n",
    "spark = SparkSession\\\n",
    "    .builder\\\n",
    "    .appName('lr_project')\\\n",
    "    .getOrCreate()\n",
    "\n",
    "spark"
   ]
  },
  {
   "cell_type": "code",
   "execution_count": 3,
   "metadata": {},
   "outputs": [
    {
     "name": "stdout",
     "output_type": "stream",
     "text": [
      "+-----------+-----------+---+------------------+----------+------+------+-----------------+----+\n",
      "|  Ship_name|Cruise_line|Age|           Tonnage|passengers|length|cabins|passenger_density|crew|\n",
      "+-----------+-----------+---+------------------+----------+------+------+-----------------+----+\n",
      "|    Journey|    Azamara|  6|30.276999999999997|      6.94|  5.94|  3.55|            42.64|3.55|\n",
      "|      Quest|    Azamara|  6|30.276999999999997|      6.94|  5.94|  3.55|            42.64|3.55|\n",
      "|Celebration|   Carnival| 26|            47.262|     14.86|  7.22|  7.43|             31.8| 6.7|\n",
      "|   Conquest|   Carnival| 11|             110.0|     29.74|  9.53| 14.88|            36.99|19.1|\n",
      "|    Destiny|   Carnival| 17|           101.353|     26.42|  8.92| 13.21|            38.36|10.0|\n",
      "|    Ecstasy|   Carnival| 22|            70.367|     20.52|  8.55|  10.2|            34.29| 9.2|\n",
      "|    Elation|   Carnival| 15|            70.367|     20.52|  8.55|  10.2|            34.29| 9.2|\n",
      "|    Fantasy|   Carnival| 23|            70.367|     20.56|  8.55| 10.22|            34.23| 9.2|\n",
      "|Fascination|   Carnival| 19|            70.367|     20.52|  8.55|  10.2|            34.29| 9.2|\n",
      "|    Freedom|   Carnival|  6|110.23899999999999|      37.0|  9.51| 14.87|            29.79|11.5|\n",
      "+-----------+-----------+---+------------------+----------+------+------+-----------------+----+\n",
      "only showing top 10 rows\n",
      "\n"
     ]
    }
   ],
   "source": [
    "# Importação dos dados para um dataframe\n",
    "dados = spark.read.format('csv').load('C:/Users/drumo/OneDrive/Documentos/Estudo/Programação/VSCode/Python/Datasets/cruise_ship_info.csv', inferSchema=True, header=True)\n",
    "dados.show(10)"
   ]
  },
  {
   "cell_type": "code",
   "execution_count": 4,
   "metadata": {},
   "outputs": [
    {
     "name": "stdout",
     "output_type": "stream",
     "text": [
      "root\n",
      " |-- Ship_name: string (nullable = true)\n",
      " |-- Cruise_line: string (nullable = true)\n",
      " |-- Age: integer (nullable = true)\n",
      " |-- Tonnage: double (nullable = true)\n",
      " |-- passengers: double (nullable = true)\n",
      " |-- length: double (nullable = true)\n",
      " |-- cabins: double (nullable = true)\n",
      " |-- passenger_density: double (nullable = true)\n",
      " |-- crew: double (nullable = true)\n",
      "\n"
     ]
    }
   ],
   "source": [
    "# Verificação dos dados\n",
    "dados.printSchema()"
   ]
  },
  {
   "cell_type": "code",
   "execution_count": 5,
   "metadata": {},
   "outputs": [],
   "source": [
    "nomes_traduzidos = [\n",
    "    'Nome Navio',\n",
    "    'Linha Cruzeiro', # Empresa que utiliza o navio\n",
    "    'Idade', # Idade do navio\n",
    "    'Tonelagem', # Capacidade de um veículo de transporte\n",
    "    'Num Passageiros', # Numero médio de passageiros por navio\n",
    "    'Comprimento', \n",
    "    'Num Cabines', # Numero de cabines\n",
    "    'Densidade Passageiros', \n",
    "    'Media Equipes' # Numero médio de integrantes da equipe presente no navio\n",
    "    ]"
   ]
  },
  {
   "cell_type": "code",
   "execution_count": 6,
   "metadata": {},
   "outputs": [],
   "source": [
    "dados = dados.toDF(*nomes_traduzidos)"
   ]
  },
  {
   "cell_type": "code",
   "execution_count": 7,
   "metadata": {},
   "outputs": [
    {
     "name": "stdout",
     "output_type": "stream",
     "text": [
      "root\n",
      " |-- Nome Navio: string (nullable = true)\n",
      " |-- Linha Cruzeiro: string (nullable = true)\n",
      " |-- Idade: integer (nullable = true)\n",
      " |-- Tonelagem: double (nullable = true)\n",
      " |-- Num Passageiros: double (nullable = true)\n",
      " |-- Comprimento: double (nullable = true)\n",
      " |-- Num Cabines: double (nullable = true)\n",
      " |-- Densidade Passageiros: double (nullable = true)\n",
      " |-- Media Equipes: double (nullable = true)\n",
      "\n"
     ]
    }
   ],
   "source": [
    "dados.printSchema()"
   ]
  },
  {
   "cell_type": "code",
   "execution_count": 50,
   "metadata": {},
   "outputs": [
    {
     "data": {
      "text/plain": [
       "[Row(Nome Navio='Journey', Linha Cruzeiro='Azamara', Idade=6, Tonelagem=30.276999999999997, Num Passageiros=6.94, Comprimento=5.94, Num Cabines=3.55, Densidade Passageiros=42.64, Media Equipes=3.55, Categoria Cruzeiro=16.0),\n",
       " Row(Nome Navio='Quest', Linha Cruzeiro='Azamara', Idade=6, Tonelagem=30.276999999999997, Num Passageiros=6.94, Comprimento=5.94, Num Cabines=3.55, Densidade Passageiros=42.64, Media Equipes=3.55, Categoria Cruzeiro=16.0),\n",
       " Row(Nome Navio='Celebration', Linha Cruzeiro='Carnival', Idade=26, Tonelagem=47.262, Num Passageiros=14.86, Comprimento=7.22, Num Cabines=7.43, Densidade Passageiros=31.8, Media Equipes=6.7, Categoria Cruzeiro=1.0)]"
      ]
     },
     "execution_count": 50,
     "metadata": {},
     "output_type": "execute_result"
    }
   ],
   "source": [
    "indexado = StringIndexer(inputCol='Linha Cruzeiro', outputCol='Categoria Cruzeiro')\n",
    "indexado = indexado.fit(dados).transform(dados)\n",
    "indexado.head(3)"
   ]
  },
  {
   "cell_type": "code",
   "execution_count": 75,
   "metadata": {},
   "outputs": [],
   "source": [
    "# Vetorização das colunas necessárias: \n",
    "assembler = VectorAssembler(\n",
    "    inputCols=[\n",
    "        'Idade',\n",
    "        'Tonelagem',\n",
    "        'Densidade Passageiros',\n",
    "        'Comprimento',\n",
    "        'Num Cabines', \n",
    "        'Densidade Passageiros',\n",
    "        'Categoria Cruzeiro'],\n",
    "    outputCol='features'\n",
    ") "
   ]
  },
  {
   "cell_type": "code",
   "execution_count": 76,
   "metadata": {},
   "outputs": [],
   "source": [
    "novos_dados = assembler.transform(indexado)"
   ]
  },
  {
   "cell_type": "code",
   "execution_count": 77,
   "metadata": {},
   "outputs": [
    {
     "name": "stdout",
     "output_type": "stream",
     "text": [
      "+--------------------+-------------+\n",
      "|            features|Media Equipes|\n",
      "+--------------------+-------------+\n",
      "|[6.0,30.276999999...|         3.55|\n",
      "|[6.0,30.276999999...|         3.55|\n",
      "|[26.0,47.262,31.8...|          6.7|\n",
      "|[11.0,110.0,36.99...|         19.1|\n",
      "|[17.0,101.353,38....|         10.0|\n",
      "|[22.0,70.367,34.2...|          9.2|\n",
      "|[15.0,70.367,34.2...|          9.2|\n",
      "|[23.0,70.367,34.2...|          9.2|\n",
      "|[19.0,70.367,34.2...|          9.2|\n",
      "|[6.0,110.23899999...|         11.5|\n",
      "+--------------------+-------------+\n",
      "only showing top 10 rows\n",
      "\n"
     ]
    }
   ],
   "source": [
    "novos_dados.select('features', 'Media Equipes').show(10)"
   ]
  },
  {
   "cell_type": "code",
   "execution_count": 78,
   "metadata": {},
   "outputs": [
    {
     "name": "stdout",
     "output_type": "stream",
     "text": [
      "+-------------+--------------------+\n",
      "|Media Equipes|            features|\n",
      "+-------------+--------------------+\n",
      "|         3.55|[6.0,30.276999999...|\n",
      "|         3.55|[6.0,30.276999999...|\n",
      "|          6.7|[26.0,47.262,31.8...|\n",
      "|         19.1|[11.0,110.0,36.99...|\n",
      "|         10.0|[17.0,101.353,38....|\n",
      "|          9.2|[22.0,70.367,34.2...|\n",
      "|          9.2|[15.0,70.367,34.2...|\n",
      "|          9.2|[23.0,70.367,34.2...|\n",
      "|          9.2|[19.0,70.367,34.2...|\n",
      "|         11.5|[6.0,110.23899999...|\n",
      "+-------------+--------------------+\n",
      "only showing top 10 rows\n",
      "\n"
     ]
    }
   ],
   "source": [
    "dados_finais = novos_dados.select('Media Equipes', 'features')\n",
    "dados_finais.show(10)"
   ]
  },
  {
   "cell_type": "code",
   "execution_count": 79,
   "metadata": {},
   "outputs": [],
   "source": [
    "dados_treino, dados_teste = dados_finais.randomSplit([0.7, 0.3])"
   ]
  },
  {
   "cell_type": "code",
   "execution_count": 80,
   "metadata": {},
   "outputs": [
    {
     "name": "stdout",
     "output_type": "stream",
     "text": [
      "+-------+------------------+\n",
      "|summary|     Media Equipes|\n",
      "+-------+------------------+\n",
      "|  count|                42|\n",
      "|   mean|  7.85452380952381|\n",
      "| stddev|3.8221856870445943|\n",
      "|    min|              0.88|\n",
      "|    max|              19.1|\n",
      "+-------+------------------+\n",
      "\n"
     ]
    }
   ],
   "source": [
    "dados_teste.describe().show()"
   ]
  },
  {
   "cell_type": "code",
   "execution_count": 81,
   "metadata": {},
   "outputs": [
    {
     "name": "stdout",
     "output_type": "stream",
     "text": [
      "+-------+------------------+\n",
      "|summary|     Media Equipes|\n",
      "+-------+------------------+\n",
      "|  count|               116|\n",
      "|   mean| 7.772327586206896|\n",
      "| stddev|3.3980839505863276|\n",
      "|    min|              0.59|\n",
      "|    max|              21.0|\n",
      "+-------+------------------+\n",
      "\n"
     ]
    }
   ],
   "source": [
    "dados_treino.describe().show()"
   ]
  },
  {
   "cell_type": "code",
   "execution_count": 82,
   "metadata": {},
   "outputs": [],
   "source": [
    "dados_regressao = LinearRegression(labelCol='Media Equipes')"
   ]
  },
  {
   "cell_type": "code",
   "execution_count": 83,
   "metadata": {},
   "outputs": [],
   "source": [
    "modelo_linear = dados_regressao.fit(dados_treino)\n",
    "resultado_teste = modelo_linear.evaluate(dados_teste)"
   ]
  },
  {
   "cell_type": "code",
   "execution_count": 84,
   "metadata": {},
   "outputs": [
    {
     "name": "stdout",
     "output_type": "stream",
     "text": [
      "+--------------------+\n",
      "|           residuals|\n",
      "+--------------------+\n",
      "|  -0.710094333232311|\n",
      "|-0.40670088179743713|\n",
      "|-0.40794465946359315|\n",
      "| -1.2547478575224396|\n",
      "| -0.4429645990786697|\n",
      "|-0.16984999418657232|\n",
      "|0.045917569742218944|\n",
      "|-0.22917073052891723|\n",
      "|  1.1969740186396827|\n",
      "| -0.4157452899645362|\n",
      "|-0.12697628582615827|\n",
      "|  0.1780969211162704|\n",
      "| 0.17768232856088506|\n",
      "| -0.5340090867905234|\n",
      "| -1.1599855951927465|\n",
      "|   -1.16019289147044|\n",
      "| -0.0775948899881973|\n",
      "|  0.7209461847576959|\n",
      "|  0.2586118072523389|\n",
      "|0.025469277341981567|\n",
      "+--------------------+\n",
      "only showing top 20 rows\n",
      "\n"
     ]
    },
    {
     "name": "stderr",
     "output_type": "stream",
     "text": [
      "C:\\spark-3.2.0-bin-hadoop3.2\\python\\pyspark\\sql\\context.py:125: FutureWarning: Deprecated in 3.0.0. Use SparkSession.builder.getOrCreate() instead.\n",
      "  warnings.warn(\n"
     ]
    }
   ],
   "source": [
    "resultado_teste.residuals.show()"
   ]
  },
  {
   "cell_type": "code",
   "execution_count": 86,
   "metadata": {},
   "outputs": [
    {
     "name": "stdout",
     "output_type": "stream",
     "text": [
      "Intercept:-1.9637639627228725\n",
      "Coefficients:[0.00020729627769276637,-0.007199417201394892,0.00932556502008408,0.38182171977871227,0.6854260993461246,0.00932556502008408,0.05346433943036581]\n"
     ]
    }
   ],
   "source": [
    "print(f'Intercept:{modelo_linear.intercept}')\n",
    "print(f'Coefficients:{modelo_linear.coefficients}')"
   ]
  },
  {
   "cell_type": "code",
   "execution_count": 87,
   "metadata": {},
   "outputs": [
    {
     "name": "stdout",
     "output_type": "stream",
     "text": [
      "RMSE: 1.516009876399715\n",
      "MSE: 2.298285945341479\n",
      "R²: 0.8388442034111554\n"
     ]
    }
   ],
   "source": [
    "print(f'''RMSE: {resultado_teste.rootMeanSquaredError}\n",
    "MSE: {resultado_teste.meanSquaredError}\n",
    "R²: {resultado_teste.r2}''')"
   ]
  },
  {
   "cell_type": "code",
   "execution_count": 88,
   "metadata": {},
   "outputs": [
    {
     "name": "stdout",
     "output_type": "stream",
     "text": [
      "+--------------------+------------------+\n",
      "|            features|        prediction|\n",
      "+--------------------+------------------+\n",
      "|[27.0,5.35,32.04,...| 1.590094333232311|\n",
      "|[21.0,10.0,48.08,...| 2.006700881797437|\n",
      "|[27.0,10.0,48.08,...|2.0079446594635932|\n",
      "|[23.0,14.745,47.8...|3.0547478575224396|\n",
      "|[19.0,16.8,56.76,...|  2.54296459907867|\n",
      "|[14.0,33.0,67.35,...|3.4098499941865725|\n",
      "|[15.0,30.27699999...| 3.954082430257781|\n",
      "|[12.0,50.0,71.43,...| 4.679170730528917|\n",
      "|[10.0,46.0,65.71,...| 3.273025981360317|\n",
      "|[18.0,51.004,54.2...| 5.865745289964536|\n",
      "|[20.0,55.451,43.8...| 5.696976285826159|\n",
      "|[17.0,55.451,43.8...|5.7019030788837295|\n",
      "|[19.0,55.451,43.8...| 5.702317671439115|\n",
      "|[27.0,53.872,36.0...|6.6540090867905235|\n",
      "|[20.0,50.76,29.04...| 7.299985595192746|\n",
      "|[21.0,50.76,29.04...|  7.30019289147044|\n",
      "|[5.0,122.0,34.57,...|6.7775948899881975|\n",
      "|[21.0,47.225,34.5...| 5.979053815242304|\n",
      "|[12.0,42.0,28.38,...| 6.541388192747661|\n",
      "|[9.0,59.058,34.74...| 7.374530722658019|\n",
      "+--------------------+------------------+\n",
      "only showing top 20 rows\n",
      "\n"
     ]
    }
   ],
   "source": [
    "unlabeled_data = dados_teste.select('features')\n",
    "predictions = modelo_linear.transform(unlabeled_data)\n",
    "predictions.show()"
   ]
  },
  {
   "cell_type": "code",
   "execution_count": 89,
   "metadata": {},
   "outputs": [
    {
     "name": "stdout",
     "output_type": "stream",
     "text": [
      "+------------------------------------+\n",
      "|corr(Media Equipes, Num Passageiros)|\n",
      "+------------------------------------+\n",
      "|                  0.9152341306065384|\n",
      "+------------------------------------+\n",
      "\n"
     ]
    }
   ],
   "source": [
    "dados.select(corr('Media Equipes', 'Num Passageiros')).show()"
   ]
  },
  {
   "cell_type": "code",
   "execution_count": 1,
   "metadata": {},
   "outputs": [
    {
     "name": "stdout",
     "output_type": "stream",
     "text": [
      "estou falando do outro lado do mundo!\n"
     ]
    }
   ],
   "source": []
  },
  {
   "cell_type": "code",
   "execution_count": 90,
   "metadata": {},
   "outputs": [
    {
     "name": "stdout",
     "output_type": "stream",
     "text": [
      "+--------------------------------+\n",
      "|corr(Media Equipes, Num Cabines)|\n",
      "+--------------------------------+\n",
      "|              0.9508226063578497|\n",
      "+--------------------------------+\n",
      "\n"
     ]
    }
   ],
   "source": [
    "dados.select(corr('Media Equipes', 'Num Cabines')).show()"
   ]
  }
 ],
 "metadata": {
  "interpreter": {
   "hash": "f79e04e549d72e96c4fa9edf3b3a4d8bcc8ad43ae671365b37c194f89344cae7"
  },
  "kernelspec": {
   "display_name": "Python 3.9.2 64-bit",
   "language": "python",
   "name": "python3"
  },
  "language_info": {
   "codemirror_mode": {
    "name": "ipython",
    "version": 3
   },
   "file_extension": ".py",
   "mimetype": "text/x-python",
   "name": "python",
   "nbconvert_exporter": "python",
   "pygments_lexer": "ipython3",
   "version": "3.9.2"
  },
  "orig_nbformat": 4
 },
 "nbformat": 4,
 "nbformat_minor": 2
}
